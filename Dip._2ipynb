{
 "cells": [
  {
   "cell_type": "code",
   "execution_count": 1,
   "metadata": {},
   "outputs": [
    {
     "name": "stderr",
     "output_type": "stream",
     "text": [
      "Using TensorFlow backend.\n"
     ]
    }
   ],
   "source": [
    "import os\n",
    "\n",
    "import math\n",
    "import cv2\n",
    "import numpy\n",
    "\n",
    "from PIL import Image\n",
    "import pandas as pd\n",
    "\n",
    "from sklearn.preprocessing import LabelEncoder, StandardScaler\n",
    "from sklearn.metrics import confusion_matrix\n",
    "from sklearn.utils import shuffle\n",
    "\n",
    "import matplotlib.pyplot as plt\n",
    "\n",
    "from keras.models import Sequential\n",
    "from keras.layers import Dense, Dropout, Activation, Flatten\n",
    "from keras.layers import Conv2D, MaxPooling2D\n",
    "\n",
    "\n",
    "Base_dir='/Users/shreevathsapk/Desktop/Dipprj'\n",
    "os.chdir(Base_dir)\n"
   ]
  },
  {
   "cell_type": "code",
   "execution_count": 2,
   "metadata": {},
   "outputs": [],
   "source": [
    "def imagepreprocess(image_folders_dir):\n",
    "    Numpy_img_array=[];\n",
    "    Label_array=[];\n",
    "    os.chdir(image_folders_dir)\n",
    "    for filename in os.listdir(image_folders_dir):\n",
    "        if(filename!='.DS_Store'):\n",
    "            print(filename)\n",
    "            #print(Numpy_img_array)\n",
    "            os.chdir(filename)\n",
    "            for imgclass_file in os.listdir():\n",
    "                #print(\"In for2 \",filename)\n",
    "                if imgclass_file.endswith(('.jpg', '.png')):\n",
    "                    #print('if check')\n",
    "                    spctimg_highquality=cv2.imread(imgclass_file) #cv2.cvtColor(originalImage, cv2.COLOR_BGR2GRAY)\n",
    "                    spctimg=cv2.resize(spctimg_highquality,(45,45))\n",
    "                    #spctimg=cv2.cvtColor(spctimg_color, cv2.COLOR_BGR2GRAY)\n",
    "                    Numpy_img_array.append(spctimg)\n",
    "                    Label_array.append(filename);\n",
    "            os.chdir(\"..\")\n",
    "            print(os.getcwd())\n",
    "    os.chdir(\"..\") \n",
    "    return Numpy_img_array,Label_array"
   ]
  },
  {
   "cell_type": "code",
   "execution_count": 3,
   "metadata": {},
   "outputs": [],
   "source": [
    "\n",
    "def Conv_Neural_Net(x_train,y_train,x_test,y_test):\n",
    "    #x_train=Image_Data\n",
    "    #y_train=Label_Data\n",
    "    \n",
    "    #create model\n",
    "    model = Sequential()\n",
    "    #add model layers\n",
    "    model.add(Conv2D(64, kernel_size=1, activation='relu',input_shape=(45,45,3)))\n",
    "    model.add(Conv2D(32, kernel_size=1, activation='relu'))\n",
    "    model.add(Flatten())\n",
    "    model.add(Dense(11, activation='softmax'))\n",
    "    \n",
    "    #compile model using accuracy to measure model performance\n",
    "    model.compile(optimizer='adam', loss='sparse_categorical_crossentropy', metrics=['accuracy'])\n",
    "    \n",
    "    #train the model\n",
    "    model.fit(x_train, y_train, validation_data=(x_test, y_test), epochs=3)\n",
    "    return model"
   ]
  },
  {
   "cell_type": "code",
   "execution_count": 4,
   "metadata": {},
   "outputs": [],
   "source": [
    " def Dataset_organise(Image_Data_list,Label_Data):\n",
    "    Image_Data=numpy.stack(Image_Data_list, axis=0 )\n",
    "    #Image_Data_list=0; ###Clearing the variable to save space in disk\n",
    "\n",
    "    encoder = LabelEncoder()\n",
    "    Label_Data_enc = encoder.fit_transform(Label_Data)\n",
    "\n",
    "\n",
    "    randomize = numpy.arange(len(Image_Data))\n",
    "    numpy.random.shuffle(randomize)\n",
    "    Image_Data = Image_Data[randomize]\n",
    "    Label_Data_enc = Label_Data_enc[randomize]\n",
    "\n",
    "    Image_Data_Train=Image_Data[:math.ceil(len(Image_Data)*0.8)]\n",
    "    Image_Data_Test=Image_Data[math.ceil(len(Image_Data)*0.8):len(Image_Data)]\n",
    "\n",
    "\n",
    "    Label_Data_Train=Label_Data_enc[:math.ceil(len(Label_Data_enc)*0.8)]\n",
    "    Label_Data_Test=Label_Data_enc[math.ceil(len(Label_Data_enc)*0.8):len(Label_Data_enc)]\n",
    "\n",
    "    #Image_Data=0; ###Clearing the variable to save space in disk\n",
    "    \n",
    "    return Image_Data_Train,Image_Data_Test,Label_Data_Train,Label_Data_Test"
   ]
  },
  {
   "cell_type": "code",
   "execution_count": 5,
   "metadata": {},
   "outputs": [
    {
     "name": "stdout",
     "output_type": "stream",
     "text": [
      "9\n",
      "/Users/shreevathsapk/Desktop/DIPPrj/imagesamp\n",
      "0\n",
      "/Users/shreevathsapk/Desktop/DIPPrj/imagesamp\n",
      "7\n",
      "/Users/shreevathsapk/Desktop/DIPPrj/imagesamp\n",
      "6\n",
      "/Users/shreevathsapk/Desktop/DIPPrj/imagesamp\n",
      "1\n",
      "/Users/shreevathsapk/Desktop/DIPPrj/imagesamp\n",
      "10\n",
      "/Users/shreevathsapk/Desktop/DIPPrj/imagesamp\n",
      "8\n",
      "/Users/shreevathsapk/Desktop/DIPPrj/imagesamp\n",
      "4\n",
      "/Users/shreevathsapk/Desktop/DIPPrj/imagesamp\n",
      "3\n",
      "/Users/shreevathsapk/Desktop/DIPPrj/imagesamp\n",
      "2\n",
      "/Users/shreevathsapk/Desktop/DIPPrj/imagesamp\n",
      "5\n",
      "/Users/shreevathsapk/Desktop/DIPPrj/imagesamp\n"
     ]
    }
   ],
   "source": [
    "#main\n",
    "os.chdir(Base_dir)\n",
    "image_folders_dir='/Users/shreevathsapk/Desktop/Dipprj/imagesamp'\n",
    "\n",
    "[Image_Data_list,Label_Data]=imagepreprocess(image_folders_dir)"
   ]
  },
  {
   "cell_type": "code",
   "execution_count": 6,
   "metadata": {},
   "outputs": [],
   "source": [
    "[Image_Data_Train,Image_Data_Test,Label_Data_Train,Label_Data_Test]=Dataset_organise(Image_Data_list,Label_Data)"
   ]
  },
  {
   "cell_type": "code",
   "execution_count": 7,
   "metadata": {},
   "outputs": [
    {
     "name": "stdout",
     "output_type": "stream",
     "text": [
      "Train on 2200 samples, validate on 550 samples\n",
      "Epoch 1/3\n",
      "2200/2200 [==============================] - 6s 3ms/step - loss: 12.8974 - accuracy: 0.5359 - val_loss: 0.3599 - val_accuracy: 0.8764\n",
      "Epoch 2/3\n",
      "2200/2200 [==============================] - 5s 2ms/step - loss: 0.1952 - accuracy: 0.9368 - val_loss: 0.0857 - val_accuracy: 0.9691\n",
      "Epoch 3/3\n",
      "2200/2200 [==============================] - 5s 2ms/step - loss: 0.0629 - accuracy: 0.9827 - val_loss: 0.0614 - val_accuracy: 0.9800\n"
     ]
    }
   ],
   "source": [
    "instrumentclassificationmodel=Conv_Neural_Net(Image_Data_Train,Label_Data_Train,Image_Data_Test,Label_Data_Test)"
   ]
  },
  {
   "cell_type": "code",
   "execution_count": 8,
   "metadata": {},
   "outputs": [
    {
     "data": {
      "text/plain": [
       "array([ 7,  7,  6,  5,  9,  2,  3,  4,  8,  8, 10,  0,  5,  6, 10,  0,  4,\n",
       "        8, 10, 10,  7,  9,  5,  0,  4,  7,  3,  6, 10,  3,  8,  4,  2,  3,\n",
       "        1,  2,  6,  7,  0,  5,  3,  1,  6,  9,  4,  3,  2,  5,  8,  4,  9,\n",
       "        4,  8,  2, 10,  5,  5,  5,  3,  9,  0,  9,  9, 10,  7,  8,  4,  3,\n",
       "        8,  2,  6,  6,  8,  7,  1,  5,  2,  4,  6,  4,  1,  1,  3,  0,  6,\n",
       "        8,  9,  1, 10,  5,  3,  5, 10,  2,  0,  1,  7,  0,  0,  3,  8,  4,\n",
       "        1,  6,  9,  6,  4,  6,  5,  4,  9,  7,  9,  7,  0,  5, 10,  9,  7,\n",
       "        1,  9,  5,  2,  7,  5,  4,  0,  4,  0, 10,  4,  3,  8,  5,  1,  5,\n",
       "        9,  4,  4,  6,  2,  5,  3,  7,  3,  4,  7,  6,  7,  1,  7,  1,  3,\n",
       "        5,  8,  3, 10,  2,  6,  7,  5,  0,  3,  2,  4,  4,  0,  5,  1, 10,\n",
       "        1,  5,  4, 10,  0,  1,  1, 10, 10,  4,  4,  8,  2,  6,  2,  8,  2,\n",
       "        3,  4,  4,  4,  9,  9, 10,  5, 10,  4,  2,  9,  3,  8,  6,  7,  9,\n",
       "        9,  7,  4,  3,  5,  0,  8,  5,  9,  4,  1,  1,  1,  3,  9,  6,  4,\n",
       "       10,  9,  7,  3, 10, 10, 10, 10,  7,  8,  3,  1,  1,  9,  0,  0,  6,\n",
       "        0, 10, 10,  6, 10, 10,  3,  3,  1,  8, 10,  3,  7,  1,  8,  2,  7,\n",
       "        5,  3, 10,  9,  4,  2,  7,  6,  7,  7,  2,  3,  7,  8,  3,  3,  7,\n",
       "        6,  7,  5,  1,  2,  4,  5,  8,  4,  7,  8,  4,  1,  0,  1, 10,  4,\n",
       "        8,  0,  9,  0,  6,  4,  1, 10,  7,  8,  5,  5,  0,  8, 10,  9,  4,\n",
       "        6,  8,  2,  7,  0,  3, 10,  5,  1,  8,  8,  9,  2,  8,  5,  4,  1,\n",
       "        2,  4,  1,  0,  2,  1,  7,  3,  6,  4,  7,  5,  4,  5,  1,  2,  7,\n",
       "        9,  3,  5,  2,  7,  9, 10,  7,  8,  2,  9,  7,  9,  6,  1, 10,  8,\n",
       "        8,  6,  0,  8,  3,  6,  8,  5,  3,  0,  4,  8,  0,  0,  0,  3,  9,\n",
       "        2,  6,  1,  9,  9,  2, 10,  5, 10,  6,  4,  3, 10,  7,  7,  5,  6,\n",
       "        2, 10,  2, 10,  6,  0,  6,  2,  8,  4,  9, 10,  4,  4,  1,  0,  8,\n",
       "        4,  3,  2,  1,  8,  7,  4,  6,  4,  9,  0,  2,  5,  5,  7,  8,  4,\n",
       "        5,  1,  8,  1,  9,  1, 10,  8,  5,  5,  4,  8,  0,  4,  7,  7,  0,\n",
       "        5,  5, 10,  1,  2,  6,  1,  1,  5,  6,  7,  1, 10,  5,  6,  4,  3,\n",
       "        3,  0,  9,  8,  5,  3,  9,  3,  8,  6,  9,  3,  2,  9, 10,  0,  9,\n",
       "        0, 10, 10,  2, 10,  7,  1,  0,  4,  4,  0,  5,  1,  8,  1, 10,  8,\n",
       "        8,  3,  5,  7,  4,  1,  5,  0,  7,  2,  2,  5,  7,  5,  4,  2,  6,\n",
       "        9,  6,  1,  7,  6, 10,  5,  8,  8,  4,  6,  6,  5,  3,  8,  6,  1,\n",
       "        3,  4,  7,  1,  2,  9,  0,  4,  0,  2,  7,  6,  5,  0,  1,  3,  2,\n",
       "       10, 10,  3,  9,  3,  4])"
      ]
     },
     "execution_count": 8,
     "metadata": {},
     "output_type": "execute_result"
    }
   ],
   "source": [
    "predictions = instrumentclassificationmodel.predict_classes(Image_Data_Test)\n",
    "predictions"
   ]
  },
  {
   "cell_type": "code",
   "execution_count": 9,
   "metadata": {},
   "outputs": [],
   "source": [
    "C=confusion_matrix(Label_Data_Test, predictions)"
   ]
  },
  {
   "cell_type": "code",
   "execution_count": 10,
   "metadata": {},
   "outputs": [
    {
     "data": {
      "text/plain": [
       "array([[44,  0,  0,  0,  6,  0,  0,  0,  0,  0,  0],\n",
       "       [ 0, 51,  0,  0,  1,  0,  0,  0,  0,  0,  0],\n",
       "       [ 0,  0, 40,  0,  0,  0,  0,  0,  0,  0,  0],\n",
       "       [ 0,  0,  2, 48,  0,  0,  0,  0,  0,  0,  0],\n",
       "       [ 0,  0,  0,  0, 55,  0,  0,  0,  0,  0,  0],\n",
       "       [ 0,  0,  0,  0,  0, 56,  0,  0,  0,  0,  0],\n",
       "       [ 0,  0,  0,  0,  0,  0, 45,  0,  0,  0,  0],\n",
       "       [ 0,  0,  0,  0,  0,  0,  0, 52,  0,  0,  0],\n",
       "       [ 0,  0,  0,  0,  0,  0,  0,  0, 51,  0,  0],\n",
       "       [ 0,  0,  0,  0,  0,  0,  0,  0,  0, 45,  0],\n",
       "       [ 0,  0,  1,  1,  0,  0,  0,  0,  0,  0, 52]])"
      ]
     },
     "execution_count": 10,
     "metadata": {},
     "output_type": "execute_result"
    }
   ],
   "source": [
    "C"
   ]
  },
  {
   "cell_type": "code",
   "execution_count": 11,
   "metadata": {},
   "outputs": [
    {
     "data": {
      "text/plain": [
       "array([[ 88.        ,   0.        ,   0.        ,   0.        ,\n",
       "         10.90909091,   0.        ,   0.        ,   0.        ,\n",
       "          0.        ,   0.        ,   0.        ],\n",
       "       [  0.        ,  98.07692308,   0.        ,   0.        ,\n",
       "          1.81818182,   0.        ,   0.        ,   0.        ,\n",
       "          0.        ,   0.        ,   0.        ],\n",
       "       [  0.        ,   0.        , 100.        ,   0.        ,\n",
       "          0.        ,   0.        ,   0.        ,   0.        ,\n",
       "          0.        ,   0.        ,   0.        ],\n",
       "       [  0.        ,   0.        ,   5.        ,  96.        ,\n",
       "          0.        ,   0.        ,   0.        ,   0.        ,\n",
       "          0.        ,   0.        ,   0.        ],\n",
       "       [  0.        ,   0.        ,   0.        ,   0.        ,\n",
       "        100.        ,   0.        ,   0.        ,   0.        ,\n",
       "          0.        ,   0.        ,   0.        ],\n",
       "       [  0.        ,   0.        ,   0.        ,   0.        ,\n",
       "          0.        , 100.        ,   0.        ,   0.        ,\n",
       "          0.        ,   0.        ,   0.        ],\n",
       "       [  0.        ,   0.        ,   0.        ,   0.        ,\n",
       "          0.        ,   0.        , 100.        ,   0.        ,\n",
       "          0.        ,   0.        ,   0.        ],\n",
       "       [  0.        ,   0.        ,   0.        ,   0.        ,\n",
       "          0.        ,   0.        ,   0.        , 100.        ,\n",
       "          0.        ,   0.        ,   0.        ],\n",
       "       [  0.        ,   0.        ,   0.        ,   0.        ,\n",
       "          0.        ,   0.        ,   0.        ,   0.        ,\n",
       "        100.        ,   0.        ,   0.        ],\n",
       "       [  0.        ,   0.        ,   0.        ,   0.        ,\n",
       "          0.        ,   0.        ,   0.        ,   0.        ,\n",
       "          0.        , 100.        ,   0.        ],\n",
       "       [  0.        ,   0.        ,   2.5       ,   2.        ,\n",
       "          0.        ,   0.        ,   0.        ,   0.        ,\n",
       "          0.        ,   0.        ,  96.2962963 ]])"
      ]
     },
     "execution_count": 11,
     "metadata": {},
     "output_type": "execute_result"
    }
   ],
   "source": [
    "K=(C / C.astype(numpy.float).sum(axis=1))*100\n",
    "K"
   ]
  },
  {
   "cell_type": "code",
   "execution_count": 12,
   "metadata": {},
   "outputs": [
    {
     "name": "stdout",
     "output_type": "stream",
     "text": [
      "88.0\n",
      "98.07692307692307\n",
      "100.0\n",
      "96.0\n",
      "100.0\n",
      "100.0\n"
     ]
    }
   ],
   "source": [
    "for i in range (6):\n",
    "    print(K[i][i])"
   ]
  },
  {
   "cell_type": "code",
   "execution_count": 13,
   "metadata": {},
   "outputs": [
    {
     "data": {
      "text/plain": [
       "'\\ndef prediction_spectrum_extract(audio_file):\\n    cmap = plt.get_cmap(\\'inferno\\')\\n    y, sr = librosa.load(audio_file, mono=True,duration=20)\\n    plt.specgram(y, NFFT=2048, Fs=2, Fc=0, noverlap=128, cmap=cmap, sides=\\'default\\', mode=\\'default\\', scale=\\'dB\\');\\n    plt.axis(\\'off\\');\\n    plt.savefig(f\\'/Users/shreevathsapk/Desktop/Miniprj/CNN_Prediction_features/{audio_file[:-3].replace(\".\", \"\")}.png\\')\\n    '"
      ]
     },
     "execution_count": 13,
     "metadata": {},
     "output_type": "execute_result"
    }
   ],
   "source": [
    "'''\n",
    "def prediction_spectrum_extract(audio_file):\n",
    "    cmap = plt.get_cmap('inferno')\n",
    "    y, sr = librosa.load(audio_file, mono=True,duration=20)\n",
    "    plt.specgram(y, NFFT=2048, Fs=2, Fc=0, noverlap=128, cmap=cmap, sides='default', mode='default', scale='dB');\n",
    "    plt.axis('off');\n",
    "    plt.savefig(f'/Users/shreevathsapk/Desktop/Miniprj/CNN_Prediction_features/{audio_file[:-3].replace(\".\", \"\")}.png')\n",
    "    '''"
   ]
  },
  {
   "cell_type": "code",
   "execution_count": 14,
   "metadata": {},
   "outputs": [],
   "source": [
    "\n",
    "def prediction_features(imagefile_path):\n",
    "    old_dir=os.getcwd()\n",
    "    os.chdir(imagefile_path)\n",
    "    image_file=input()\n",
    "    spctimg_highquality=cv2.imread(image_file) #cv2.cvtColor(originalImage, cv2.COLOR_BGR2GRAY)\n",
    "    spctimg=cv2.resize(spctimg_highquality,(45,45))\n",
    "    processed_image_prediction=numpy.stack(spctimg, axis=0 )\n",
    "    os.chdir(old_dir)\n",
    "    return processed_image_prediction"
   ]
  },
  {
   "cell_type": "code",
   "execution_count": 19,
   "metadata": {},
   "outputs": [
    {
     "name": "stdin",
     "output_type": "stream",
     "text": [
      "Give Pediction file path /Users/shreevathsapk/Desktop\n"
     ]
    }
   ],
   "source": [
    "image_file_prediction_path=input('Give Pediction file path')"
   ]
  },
  {
   "cell_type": "code",
   "execution_count": 33,
   "metadata": {},
   "outputs": [
    {
     "name": "stdin",
     "output_type": "stream",
     "text": [
      " el.jpg\n"
     ]
    }
   ],
   "source": [
    "processed_image_prediction=prediction_features(image_file_prediction_path)"
   ]
  },
  {
   "cell_type": "code",
   "execution_count": 34,
   "metadata": {},
   "outputs": [],
   "source": [
    "processed_image_prediction1 = numpy.asarray(processed_image_prediction).reshape((1, 45, 45, 3))\n",
    "recognised_emoji = instrumentclassificationmodel.predict_classes(processed_image_prediction1)"
   ]
  },
  {
   "cell_type": "code",
   "execution_count": 35,
   "metadata": {},
   "outputs": [
    {
     "data": {
      "text/plain": [
       "(45, 45, 3)"
      ]
     },
     "execution_count": 35,
     "metadata": {},
     "output_type": "execute_result"
    }
   ],
   "source": [
    "processed_image_prediction.shape"
   ]
  },
  {
   "cell_type": "code",
   "execution_count": 36,
   "metadata": {},
   "outputs": [
    {
     "data": {
      "text/plain": [
       "1"
      ]
     },
     "execution_count": 36,
     "metadata": {},
     "output_type": "execute_result"
    }
   ],
   "source": [
    "recognised_emoji[0]"
   ]
  },
  {
   "cell_type": "code",
   "execution_count": 24,
   "metadata": {},
   "outputs": [
    {
     "data": {
      "text/plain": [
       "array([ 7,  7,  6,  5,  9,  2,  3,  4,  8,  8, 10,  0,  5,  6, 10,  0,  4,\n",
       "        8, 10, 10,  7,  9,  5,  0,  4,  7,  3,  6, 10,  3,  8,  4,  2,  3,\n",
       "        1,  2,  6,  7,  0,  5,  3,  1,  6,  9,  4,  3,  2,  5,  8,  4,  9,\n",
       "        4,  8,  2, 10,  5,  5,  5,  3,  9,  0,  9,  9, 10,  7,  8,  4,  3,\n",
       "        8,  2,  6,  6,  8,  7,  1,  5,  2,  4,  6,  4,  1,  1,  3,  0,  6,\n",
       "        8,  9,  1, 10,  5,  3,  5, 10,  2,  0,  1,  7,  0,  0,  3,  8,  4,\n",
       "        1,  6,  9,  6,  4,  6,  5,  4,  9,  7,  9,  7,  0,  5, 10,  9,  7,\n",
       "        1,  9,  5,  2,  7,  5,  4,  0,  4,  0, 10,  4,  3,  8,  5,  1,  5,\n",
       "        9,  4,  4,  6,  2,  5,  3,  7,  3,  4,  7,  6,  7,  1,  7,  1,  3,\n",
       "        5,  8,  3, 10,  2,  6,  7,  5,  0,  3,  2,  4,  4,  0,  5,  1, 10,\n",
       "        1,  5,  4, 10,  0,  1,  1, 10, 10,  4,  4,  8,  2,  6,  2,  8,  2,\n",
       "        3,  4,  4,  4,  9,  9, 10,  5, 10,  4,  2,  9,  3,  8,  6,  7,  9,\n",
       "        9,  7,  4,  3,  5,  0,  8,  5,  9,  4,  1,  1,  1,  3,  9,  6,  4,\n",
       "       10,  9,  7,  3, 10, 10, 10, 10,  7,  8,  3,  1,  1,  9,  0,  0,  6,\n",
       "        0, 10, 10,  6, 10, 10,  3,  3,  1,  8, 10,  3,  7,  1,  8,  2,  7,\n",
       "        5,  3, 10,  9,  4,  2,  7,  6,  7,  7,  2,  3,  7,  8,  3,  3,  7,\n",
       "        6,  7,  5,  1,  2,  4,  5,  8,  4,  7,  8,  4,  1,  0,  1, 10,  4,\n",
       "        8,  0,  9,  0,  6,  4,  1, 10,  7,  8,  5,  5,  0,  8, 10,  9,  4,\n",
       "        6,  8,  2,  7,  0,  3, 10,  5,  1,  8,  8,  9,  2,  8,  5,  4,  1,\n",
       "        2,  4,  1,  0,  2,  1,  7,  3,  6,  4,  7,  5,  4,  5,  1,  2,  7,\n",
       "        9,  3,  5,  2,  7,  9, 10,  7,  8,  2,  9,  7,  9,  6,  1, 10,  8,\n",
       "        8,  6,  0,  8,  3,  6,  8,  5,  3,  0,  4,  8,  0,  0,  0,  3,  9,\n",
       "        2,  6,  1,  9,  9,  2, 10,  5, 10,  6,  4,  3, 10,  7,  7,  5,  6,\n",
       "        2, 10,  2, 10,  6,  0,  6,  2,  8,  4,  9, 10,  4,  4,  1,  0,  8,\n",
       "        4,  3,  2,  1,  8,  7,  4,  6,  4,  9,  0,  2,  5,  5,  7,  8,  4,\n",
       "        5,  1,  8,  1,  9,  1, 10,  8,  5,  5,  4,  8,  0,  4,  7,  7,  0,\n",
       "        5,  5, 10,  1,  2,  6,  1,  1,  5,  6,  7,  1, 10,  5,  6,  4,  3,\n",
       "        3,  0,  9,  8,  5,  3,  9,  3,  8,  6,  9,  3,  2,  9, 10,  0,  9,\n",
       "        0, 10, 10,  2, 10,  7,  1,  0,  4,  4,  0,  5,  1,  8,  1, 10,  8,\n",
       "        8,  3,  5,  7,  4,  1,  5,  0,  7,  2,  2,  5,  7,  5,  4,  2,  6,\n",
       "        9,  6,  1,  7,  6, 10,  5,  8,  8,  4,  6,  6,  5,  3,  8,  6,  1,\n",
       "        3,  4,  7,  1,  2,  9,  0,  4,  0,  2,  7,  6,  5,  0,  1,  3,  2,\n",
       "       10, 10,  3,  9,  3,  4])"
      ]
     },
     "execution_count": 24,
     "metadata": {},
     "output_type": "execute_result"
    }
   ],
   "source": [
    "predictions"
   ]
  },
  {
   "cell_type": "code",
   "execution_count": null,
   "metadata": {},
   "outputs": [],
   "source": [
    "Label_Data_Test-predictions"
   ]
  },
  {
   "cell_type": "code",
   "execution_count": null,
   "metadata": {},
   "outputs": [],
   "source": []
  }
 ],
 "metadata": {
  "kernelspec": {
   "display_name": "Python 3",
   "language": "python",
   "name": "python3"
  },
  "language_info": {
   "codemirror_mode": {
    "name": "ipython",
    "version": 3
   },
   "file_extension": ".py",
   "mimetype": "text/x-python",
   "name": "python",
   "nbconvert_exporter": "python",
   "pygments_lexer": "ipython3",
   "version": "3.7.4"
  }
 },
 "nbformat": 4,
 "nbformat_minor": 4
}
