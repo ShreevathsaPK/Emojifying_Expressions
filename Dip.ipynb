{
 "cells": [
  {
   "cell_type": "code",
   "execution_count": 1,
   "metadata": {},
   "outputs": [
    {
     "name": "stderr",
     "output_type": "stream",
     "text": [
      "Using TensorFlow backend.\n"
     ]
    }
   ],
   "source": [
    "import os\n",
    "\n",
    "import math\n",
    "import cv2\n",
    "import numpy\n",
    "\n",
    "from PIL import Image\n",
    "import pandas as pd\n",
    "\n",
    "from sklearn.preprocessing import LabelEncoder, StandardScaler\n",
    "from sklearn.metrics import confusion_matrix\n",
    "from sklearn.utils import shuffle\n",
    "\n",
    "import matplotlib.pyplot as plt\n",
    "\n",
    "from keras.models import Sequential\n",
    "from keras.layers import Dense, Dropout, Activation, Flatten\n",
    "from keras.layers import Conv2D, MaxPooling2D\n",
    "\n",
    "\n",
    "Base_dir='/Users/shreevathsapk/Desktop/Dipprj'\n",
    "os.chdir(Base_dir)\n"
   ]
  },
  {
   "cell_type": "code",
   "execution_count": 2,
   "metadata": {},
   "outputs": [],
   "source": [
    "def imagepreprocess(image_folders_dir):\n",
    "    Numpy_img_array=[];\n",
    "    Label_array=[];\n",
    "    os.chdir(image_folders_dir)\n",
    "    for filename in os.listdir(image_folders_dir):\n",
    "        if(filename!='.DS_Store'):\n",
    "            print(filename)\n",
    "            #print(Numpy_img_array)\n",
    "            os.chdir(filename)\n",
    "            for imgclass_file in os.listdir():\n",
    "                #print(\"In for2 \",filename)\n",
    "                if imgclass_file.endswith(('.jpg', '.png')):\n",
    "                    #print('if check')\n",
    "                    spctimg_highquality=cv2.imread(imgclass_file) #cv2.cvtColor(originalImage, cv2.COLOR_BGR2GRAY)\n",
    "                    spctimg=cv2.resize(spctimg_highquality,(45,45))\n",
    "                    #spctimg=cv2.cvtColor(spctimg_color, cv2.COLOR_BGR2GRAY)\n",
    "                    Numpy_img_array.append(spctimg)\n",
    "                    Label_array.append(filename);\n",
    "            os.chdir(\"..\")\n",
    "            print(os.getcwd())\n",
    "    os.chdir(\"..\") \n",
    "    return Numpy_img_array,Label_array"
   ]
  },
  {
   "cell_type": "code",
   "execution_count": 3,
   "metadata": {},
   "outputs": [],
   "source": [
    "\n",
    "def Conv_Neural_Net(x_train,y_train,x_test,y_test):\n",
    "    #x_train=Image_Data\n",
    "    #y_train=Label_Data\n",
    "    \n",
    "    #create model\n",
    "    model = Sequential()\n",
    "    #add model layers\n",
    "    model.add(Conv2D(64, kernel_size=1, activation='relu',input_shape=(45,45,3)))\n",
    "    model.add(Conv2D(32, kernel_size=1, activation='relu'))\n",
    "    model.add(Flatten())\n",
    "    model.add(Dense(11, activation='softmax'))\n",
    "    \n",
    "    #compile model using accuracy to measure model performance\n",
    "    model.compile(optimizer='adam', loss='sparse_categorical_crossentropy', metrics=['accuracy'])\n",
    "    \n",
    "    #train the model\n",
    "    model.fit(x_train, y_train, validation_data=(x_test, y_test), epochs=3)\n",
    "    return model"
   ]
  },
  {
   "cell_type": "code",
   "execution_count": 4,
   "metadata": {},
   "outputs": [],
   "source": [
    " def Dataset_organise(Image_Data_list,Label_Data):\n",
    "    Image_Data=numpy.stack(Image_Data_list, axis=0 )\n",
    "    #Image_Data_list=0; ###Clearing the variable to save space in disk\n",
    "\n",
    "    encoder = LabelEncoder()\n",
    "    Label_Data_enc = encoder.fit_transform(Label_Data)\n",
    "\n",
    "\n",
    "    randomize = numpy.arange(len(Image_Data))\n",
    "    numpy.random.shuffle(randomize)\n",
    "    Image_Data = Image_Data[randomize]\n",
    "    Label_Data_enc = Label_Data_enc[randomize]\n",
    "\n",
    "    Image_Data_Train=Image_Data[:math.ceil(len(Image_Data)*0.8)]\n",
    "    Image_Data_Test=Image_Data[math.ceil(len(Image_Data)*0.8):len(Image_Data)]\n",
    "\n",
    "\n",
    "    Label_Data_Train=Label_Data_enc[:math.ceil(len(Label_Data_enc)*0.8)]\n",
    "    Label_Data_Test=Label_Data_enc[math.ceil(len(Label_Data_enc)*0.8):len(Label_Data_enc)]\n",
    "\n",
    "    #Image_Data=0; ###Clearing the variable to save space in disk\n",
    "    \n",
    "    return Image_Data_Train,Image_Data_Test,Label_Data_Train,Label_Data_Test"
   ]
  },
  {
   "cell_type": "code",
   "execution_count": 5,
   "metadata": {},
   "outputs": [
    {
     "name": "stdout",
     "output_type": "stream",
     "text": [
      "0\n",
      "/Users/shreevathsapk/Desktop/DIPPrj/imagesamp\n",
      "1\n",
      "/Users/shreevathsapk/Desktop/DIPPrj/imagesamp\n",
      "2\n",
      "/Users/shreevathsapk/Desktop/DIPPrj/imagesamp\n"
     ]
    }
   ],
   "source": [
    "#main\n",
    "os.chdir(Base_dir)\n",
    "image_folders_dir='/Users/shreevathsapk/Desktop/Dipprj/imagesamp'\n",
    "\n",
    "[Image_Data_list,Label_Data]=imagepreprocess(image_folders_dir)"
   ]
  },
  {
   "cell_type": "code",
   "execution_count": 6,
   "metadata": {},
   "outputs": [
    {
     "ename": "ValueError",
     "evalue": "need at least one array to stack",
     "output_type": "error",
     "traceback": [
      "\u001b[0;31m---------------------------------------------------------------------------\u001b[0m",
      "\u001b[0;31mValueError\u001b[0m                                Traceback (most recent call last)",
      "\u001b[0;32m<ipython-input-6-e715f4a38a7e>\u001b[0m in \u001b[0;36m<module>\u001b[0;34m\u001b[0m\n\u001b[0;32m----> 1\u001b[0;31m \u001b[0;34m[\u001b[0m\u001b[0mImage_Data_Train\u001b[0m\u001b[0;34m,\u001b[0m\u001b[0mImage_Data_Test\u001b[0m\u001b[0;34m,\u001b[0m\u001b[0mLabel_Data_Train\u001b[0m\u001b[0;34m,\u001b[0m\u001b[0mLabel_Data_Test\u001b[0m\u001b[0;34m]\u001b[0m\u001b[0;34m=\u001b[0m\u001b[0mDataset_organise\u001b[0m\u001b[0;34m(\u001b[0m\u001b[0mImage_Data_list\u001b[0m\u001b[0;34m,\u001b[0m\u001b[0mLabel_Data\u001b[0m\u001b[0;34m)\u001b[0m\u001b[0;34m\u001b[0m\u001b[0;34m\u001b[0m\u001b[0m\n\u001b[0m",
      "\u001b[0;32m<ipython-input-4-c839ce6a5e2a>\u001b[0m in \u001b[0;36mDataset_organise\u001b[0;34m(Image_Data_list, Label_Data)\u001b[0m\n\u001b[1;32m      1\u001b[0m \u001b[0;32mdef\u001b[0m \u001b[0mDataset_organise\u001b[0m\u001b[0;34m(\u001b[0m\u001b[0mImage_Data_list\u001b[0m\u001b[0;34m,\u001b[0m\u001b[0mLabel_Data\u001b[0m\u001b[0;34m)\u001b[0m\u001b[0;34m:\u001b[0m\u001b[0;34m\u001b[0m\u001b[0;34m\u001b[0m\u001b[0m\n\u001b[0;32m----> 2\u001b[0;31m    \u001b[0mImage_Data\u001b[0m\u001b[0;34m=\u001b[0m\u001b[0mnumpy\u001b[0m\u001b[0;34m.\u001b[0m\u001b[0mstack\u001b[0m\u001b[0;34m(\u001b[0m\u001b[0mImage_Data_list\u001b[0m\u001b[0;34m,\u001b[0m \u001b[0maxis\u001b[0m\u001b[0;34m=\u001b[0m\u001b[0;36m0\u001b[0m \u001b[0;34m)\u001b[0m\u001b[0;34m\u001b[0m\u001b[0;34m\u001b[0m\u001b[0m\n\u001b[0m\u001b[1;32m      3\u001b[0m    \u001b[0;31m#Image_Data_list=0; ###Clearing the variable to save space in disk\u001b[0m\u001b[0;34m\u001b[0m\u001b[0;34m\u001b[0m\u001b[0;34m\u001b[0m\u001b[0m\n\u001b[1;32m      4\u001b[0m \u001b[0;34m\u001b[0m\u001b[0m\n\u001b[1;32m      5\u001b[0m    \u001b[0mencoder\u001b[0m \u001b[0;34m=\u001b[0m \u001b[0mLabelEncoder\u001b[0m\u001b[0;34m(\u001b[0m\u001b[0;34m)\u001b[0m\u001b[0;34m\u001b[0m\u001b[0;34m\u001b[0m\u001b[0m\n",
      "\u001b[0;32m<__array_function__ internals>\u001b[0m in \u001b[0;36mstack\u001b[0;34m(*args, **kwargs)\u001b[0m\n",
      "\u001b[0;32m~/opt/anaconda3/lib/python3.7/site-packages/numpy/core/shape_base.py\u001b[0m in \u001b[0;36mstack\u001b[0;34m(arrays, axis, out)\u001b[0m\n\u001b[1;32m    419\u001b[0m     \u001b[0marrays\u001b[0m \u001b[0;34m=\u001b[0m \u001b[0;34m[\u001b[0m\u001b[0masanyarray\u001b[0m\u001b[0;34m(\u001b[0m\u001b[0marr\u001b[0m\u001b[0;34m)\u001b[0m \u001b[0;32mfor\u001b[0m \u001b[0marr\u001b[0m \u001b[0;32min\u001b[0m \u001b[0marrays\u001b[0m\u001b[0;34m]\u001b[0m\u001b[0;34m\u001b[0m\u001b[0;34m\u001b[0m\u001b[0m\n\u001b[1;32m    420\u001b[0m     \u001b[0;32mif\u001b[0m \u001b[0;32mnot\u001b[0m \u001b[0marrays\u001b[0m\u001b[0;34m:\u001b[0m\u001b[0;34m\u001b[0m\u001b[0;34m\u001b[0m\u001b[0m\n\u001b[0;32m--> 421\u001b[0;31m         \u001b[0;32mraise\u001b[0m \u001b[0mValueError\u001b[0m\u001b[0;34m(\u001b[0m\u001b[0;34m'need at least one array to stack'\u001b[0m\u001b[0;34m)\u001b[0m\u001b[0;34m\u001b[0m\u001b[0;34m\u001b[0m\u001b[0m\n\u001b[0m\u001b[1;32m    422\u001b[0m \u001b[0;34m\u001b[0m\u001b[0m\n\u001b[1;32m    423\u001b[0m     \u001b[0mshapes\u001b[0m \u001b[0;34m=\u001b[0m \u001b[0;34m{\u001b[0m\u001b[0marr\u001b[0m\u001b[0;34m.\u001b[0m\u001b[0mshape\u001b[0m \u001b[0;32mfor\u001b[0m \u001b[0marr\u001b[0m \u001b[0;32min\u001b[0m \u001b[0marrays\u001b[0m\u001b[0;34m}\u001b[0m\u001b[0;34m\u001b[0m\u001b[0;34m\u001b[0m\u001b[0m\n",
      "\u001b[0;31mValueError\u001b[0m: need at least one array to stack"
     ]
    }
   ],
   "source": [
    "[Image_Data_Train,Image_Data_Test,Label_Data_Train,Label_Data_Test]=Dataset_organise(Image_Data_list,Label_Data)"
   ]
  },
  {
   "cell_type": "code",
   "execution_count": null,
   "metadata": {},
   "outputs": [],
   "source": [
    "instrumentclassificationmodel=Conv_Neural_Net(Image_Data_Train,Label_Data_Train,Image_Data_Test,Label_Data_Test)"
   ]
  },
  {
   "cell_type": "code",
   "execution_count": null,
   "metadata": {},
   "outputs": [],
   "source": [
    "predictions = instrumentclassificationmodel.predict_classes(Image_Data_Test)\n",
    "predictions"
   ]
  },
  {
   "cell_type": "code",
   "execution_count": null,
   "metadata": {},
   "outputs": [],
   "source": [
    "C=confusion_matrix(Label_Data_Test, predictions)"
   ]
  },
  {
   "cell_type": "code",
   "execution_count": null,
   "metadata": {},
   "outputs": [],
   "source": [
    "C"
   ]
  },
  {
   "cell_type": "code",
   "execution_count": null,
   "metadata": {},
   "outputs": [],
   "source": [
    "K=(C / C.astype(numpy.float).sum(axis=1))*100\n",
    "K"
   ]
  },
  {
   "cell_type": "code",
   "execution_count": null,
   "metadata": {},
   "outputs": [],
   "source": [
    "for i in range (6):\n",
    "    print(K[i][i])"
   ]
  },
  {
   "cell_type": "code",
   "execution_count": null,
   "metadata": {},
   "outputs": [],
   "source": [
    "'''\n",
    "def prediction_spectrum_extract(audio_file):\n",
    "    cmap = plt.get_cmap('inferno')\n",
    "    y, sr = librosa.load(audio_file, mono=True,duration=20)\n",
    "    plt.specgram(y, NFFT=2048, Fs=2, Fc=0, noverlap=128, cmap=cmap, sides='default', mode='default', scale='dB');\n",
    "    plt.axis('off');\n",
    "    plt.savefig(f'/Users/shreevathsapk/Desktop/Miniprj/CNN_Prediction_features/{audio_file[:-3].replace(\".\", \"\")}.png')\n",
    "    '''"
   ]
  },
  {
   "cell_type": "code",
   "execution_count": null,
   "metadata": {},
   "outputs": [],
   "source": [
    "\n",
    "def prediction_features(imagefile_path):\n",
    "    old_dir=os.getcwd()\n",
    "    os.chdir(imagefile_path)\n",
    "    image_file=input()\n",
    "    spctimg_highquality=cv2.imread(image_file) #cv2.cvtColor(originalImage, cv2.COLOR_BGR2GRAY)\n",
    "    spctimg=cv2.resize(spctimg_highquality,(45,45))\n",
    "    processed_image_prediction=numpy.stack(spctimg, axis=0 )\n",
    "    os.chdir(old_dir)\n",
    "    return processed_image_prediction"
   ]
  },
  {
   "cell_type": "code",
   "execution_count": null,
   "metadata": {},
   "outputs": [],
   "source": [
    "image_file_prediction_path=input('Give Pediction file path')"
   ]
  },
  {
   "cell_type": "code",
   "execution_count": null,
   "metadata": {},
   "outputs": [],
   "source": [
    "processed_image_prediction=prediction_features(image_file_prediction_path)"
   ]
  },
  {
   "cell_type": "code",
   "execution_count": null,
   "metadata": {},
   "outputs": [],
   "source": [
    "processed_image_prediction1 = numpy.asarray(processed_image_prediction).reshape((1, 45, 45, 3))\n",
    "recognised_emoji = instrumentclassificationmodel.predict_classes(processed_image_prediction1)"
   ]
  },
  {
   "cell_type": "code",
   "execution_count": null,
   "metadata": {},
   "outputs": [],
   "source": [
    "processed_image_prediction.shape"
   ]
  },
  {
   "cell_type": "code",
   "execution_count": null,
   "metadata": {},
   "outputs": [],
   "source": [
    "recognised_emoji[0]"
   ]
  },
  {
   "cell_type": "code",
   "execution_count": null,
   "metadata": {},
   "outputs": [],
   "source": [
    "predictions"
   ]
  },
  {
   "cell_type": "code",
   "execution_count": null,
   "metadata": {},
   "outputs": [],
   "source": [
    "Label_Data_Test-predictions"
   ]
  },
  {
   "cell_type": "code",
   "execution_count": null,
   "metadata": {},
   "outputs": [],
   "source": []
  }
 ],
 "metadata": {
  "kernelspec": {
   "display_name": "Python 3",
   "language": "python",
   "name": "python3"
  },
  "language_info": {
   "codemirror_mode": {
    "name": "ipython",
    "version": 3
   },
   "file_extension": ".py",
   "mimetype": "text/x-python",
   "name": "python",
   "nbconvert_exporter": "python",
   "pygments_lexer": "ipython3",
   "version": "3.7.4"
  }
 },
 "nbformat": 4,
 "nbformat_minor": 4
}
